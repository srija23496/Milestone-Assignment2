{
 "cells": [
  {
   "cell_type": "code",
   "execution_count": 1,
   "id": "01152ee4-342c-4776-a770-33cdf00f51bd",
   "metadata": {},
   "outputs": [
    {
     "name": "stdout",
     "output_type": "stream",
     "text": [
      "8\n"
     ]
    }
   ],
   "source": [
    "# Question 1.5 >>>>>> \n",
    "tuple1=(10,20,\"Apple\",3.4,\"a\",[\"Master\",\"ji\"],(\"sita\",\"geeta\",22),[{\"roll_no\":1},{\"name\":\"Navneet\"}])\n",
    "#(a) print(len(tuple1))\n",
    "print(len(tuple1))"
   ]
  },
  {
   "cell_type": "code",
   "execution_count": 2,
   "id": "a546d9eb-7448-49ac-a059-660e29f9a31a",
   "metadata": {},
   "outputs": [
    {
     "name": "stdout",
     "output_type": "stream",
     "text": [
      "Navneet\n"
     ]
    }
   ],
   "source": [
    "#(b) print(tuple1[-1][-1][\"name\"])\n",
    "print(tuple1[-1][-1][\"name\"])"
   ]
  },
  {
   "cell_type": "code",
   "execution_count": 3,
   "id": "23eb547c-83e0-4995-95c5-fac58ad51800",
   "metadata": {},
   "outputs": [
    {
     "name": "stdout",
     "output_type": "stream",
     "text": [
      "1\n"
     ]
    }
   ],
   "source": [
    "#(c) Fetch the value of roll_no from this tuple.\n",
    "roll_no=tuple1[-1][0]['roll_no']\n",
    "print(roll_no)"
   ]
  },
  {
   "cell_type": "code",
   "execution_count": 4,
   "id": "ba7ed9a4-04de-44ce-b3ef-c77ef2922173",
   "metadata": {},
   "outputs": [
    {
     "name": "stdout",
     "output_type": "stream",
     "text": [
      "ji\n"
     ]
    }
   ],
   "source": [
    "#(d) print(tuple1[-3][1])\n",
    "print(tuple1[-3][1])"
   ]
  },
  {
   "cell_type": "code",
   "execution_count": 5,
   "id": "5880db8a-7644-4ec2-95be-0577a657f164",
   "metadata": {},
   "outputs": [
    {
     "name": "stdout",
     "output_type": "stream",
     "text": [
      "22\n"
     ]
    }
   ],
   "source": [
    "#(e) fetch the element \"22\" from the tuple\n",
    "print(tuple1[-2][2])"
   ]
  },
  {
   "cell_type": "code",
   "execution_count": 6,
   "id": "022d4c9f-3c1f-499e-b745-89392ced4745",
   "metadata": {},
   "outputs": [
    {
     "name": "stdin",
     "output_type": "stream",
     "text": [
      "enter the color :   YELLOW\n"
     ]
    },
    {
     "name": "stdout",
     "output_type": "stream",
     "text": [
      "go\n"
     ]
    }
   ],
   "source": [
    "# Q 1.6 >>> Write a program to display the appropriate message as per\n",
    "# the color of signal( RED-Stop/Yellow-Stay/Green-go) at the road crossing\n",
    "color_display=input(\"enter the color :  \")\n",
    "if color_display==\"RED\":\n",
    "    print(\"Stop\")\n",
    "elif color_display==\"Yellow\":\n",
    "    print(\"Stay\")\n",
    "else:\n",
    "    print(\"go\")"
   ]
  },
  {
   "cell_type": "code",
   "execution_count": 7,
   "id": "876116c8-5881-4495-9ce7-89344d155ae6",
   "metadata": {},
   "outputs": [
    {
     "name": "stdin",
     "output_type": "stream",
     "text": [
      "enter first no :  56\n",
      "enter second no:  45\n",
      "enter the opetration:  +\n"
     ]
    },
    {
     "name": "stdout",
     "output_type": "stream",
     "text": [
      "101\n"
     ]
    }
   ],
   "source": [
    "# Q 1.7 >>> Write a program to create a simple calculator performing \n",
    "# performing only four basic opertation(+,-,/,*)\n",
    "a=int(input(\"enter first no : \"))\n",
    "b=int(input(\"enter second no: \"))\n",
    "oper=input(\"enter the operation: \")\n",
    "if oper==\"+\":\n",
    "    print(a+b)\n",
    "elif oper==\"-\":\n",
    "    print(a-b)\n",
    "elif oper==\"*\":\n",
    "    print(a*b)\n",
    "else:\n",
    "    print(a/b)\n"
   ]
  },
  {
   "cell_type": "code",
   "execution_count": 8,
   "id": "0b727540-dd34-4f48-89b2-fe9b4f8698be",
   "metadata": {},
   "outputs": [
    {
     "name": "stdout",
     "output_type": "stream",
     "text": [
      "9 is the largest number\n"
     ]
    }
   ],
   "source": [
    "# (1.7) >>> Write a program to find the larger of the three pre_specified number using ternary operators.\n",
    "a=5\n",
    "b=7\n",
    "c=9    # these are three pre_specified number\n",
    "if a>b & a>c:\n",
    "    print(\"5 is the largest number\")\n",
    "elif b>a & b>c:\n",
    "    print(\"7 is the largest number\")\n",
    "else:\n",
    "    print(\"9 is the largest number\")"
   ]
  },
  {
   "cell_type": "code",
   "execution_count": 9,
   "id": "5468ddf1-9ffc-4305-92e6-20cf00ab2d04",
   "metadata": {},
   "outputs": [
    {
     "name": "stdin",
     "output_type": "stream",
     "text": [
      "enter the whole number :   1\n"
     ]
    },
    {
     "name": "stdout",
     "output_type": "stream",
     "text": [
      "Factor of 1 are: \n",
      "1\n"
     ]
    }
   ],
   "source": [
    "#(1.9) Write a program to find the factors of a whole number using a while loop.\n",
    "a=int(input(\"enter the whole number :  \"))\n",
    "factor=[]\n",
    "i=1\n",
    "print(f\"Factor of {a} are: \")\n",
    "while i <= a:\n",
    "    if a % i ==0:\n",
    "        print(i)\n",
    "    i=i+1\n",
    "    \n"
   ]
  },
  {
   "cell_type": "code",
   "execution_count": 10,
   "id": "215b3942-d5b6-4879-9419-275c51dee7ac",
   "metadata": {},
   "outputs": [
    {
     "name": "stdin",
     "output_type": "stream",
     "text": [
      "enter the number:  6\n",
      "enter the number:  7\n",
      "enter the number:  4\n",
      "enter the number:  8\n",
      "enter the number:  8\n",
      "enter the number:  7\n",
      "enter the number:  -76\n"
     ]
    },
    {
     "name": "stdout",
     "output_type": "stream",
     "text": [
      "the sum of all positive numbers entered is: 40\n"
     ]
    }
   ],
   "source": [
    "#(1.10) Write a program to find the sum of all positive numbers entered\n",
    "# by the user.As soon as the user enters a negative number,stop taking in any furthur input from\n",
    "# the user and display the sum\n",
    "total_sum=0\n",
    "while True:\n",
    "    a=int(input(\"enter the number: \"))\n",
    "    if a<0:\n",
    "        break\n",
    "    total_sum += a\n",
    "print(f\"the sum of all positive numbers entered is: {total_sum}\")"
   ]
  },
  {
   "cell_type": "code",
   "execution_count": 11,
   "id": "e32ff6ff-8bec-4f6a-a969-f9bc1925397f",
   "metadata": {},
   "outputs": [
    {
     "name": "stdout",
     "output_type": "stream",
     "text": [
      "2\n",
      "3\n",
      "5\n",
      "7\n",
      "11\n",
      "13\n",
      "17\n",
      "19\n",
      "23\n",
      "29\n",
      "31\n",
      "37\n",
      "41\n",
      "43\n",
      "47\n",
      "53\n",
      "59\n",
      "61\n",
      "67\n",
      "71\n",
      "73\n",
      "79\n",
      "83\n",
      "89\n",
      "97\n"
     ]
    }
   ],
   "source": [
    "#(1.11) Write a program to find prime number between 2 to 100\n",
    "# using nested for loops\n",
    "for num in range(2,101):\n",
    "    is_prime=True\n",
    "    for i in range(2,num):\n",
    "        if num % i == 0:\n",
    "            is_prime=False\n",
    "            break\n",
    "    if is_prime:\n",
    "        print(num)"
   ]
  },
  {
   "cell_type": "code",
   "execution_count": 12,
   "id": "2f140cac-30d1-4c88-baba-fcdda3a8246d",
   "metadata": {},
   "outputs": [],
   "source": [
    "#1.12. Write the programs for the following:\n",
    "#Accept the marks of the student in five major subjects and display the same?\n",
    "#Calculate the sum of the marks of all subjects.Divide the total marks by number of subjects (i.e. 5), calculate\n",
    "# percentage = total marks/5 and display the percentage?\n",
    "#Find the grade of the student as per the following criteria . Hint: Use Match & case for this.:\n",
    "marks_subject=({\"subject\":[\"eng\",\"hindi\",\"maths\",\"science\",\"sst\"],\"marks\":[66,92,96,55,89]})"
   ]
  },
  {
   "cell_type": "code",
   "execution_count": 13,
   "id": "b0e349f4-f106-422a-86c4-6f636598bc4f",
   "metadata": {},
   "outputs": [
    {
     "data": {
      "text/plain": [
       "{'subject': ['eng', 'hindi', 'maths', 'science', 'sst'],\n",
       " 'marks': [66, 92, 96, 55, 89]}"
      ]
     },
     "execution_count": 13,
     "metadata": {},
     "output_type": "execute_result"
    }
   ],
   "source": [
    "marks_subject"
   ]
  },
  {
   "cell_type": "code",
   "execution_count": 14,
   "id": "a1d9bd06-9c1f-4655-afa7-a4146caaabb5",
   "metadata": {},
   "outputs": [
    {
     "name": "stdout",
     "output_type": "stream",
     "text": [
      "total_marks: 398\n"
     ]
    }
   ],
   "source": [
    "marks=marks_subject[\"marks\"]\n",
    "total_marks=sum(marks)\n",
    "print(\"total_marks:\",total_marks)"
   ]
  },
  {
   "cell_type": "code",
   "execution_count": 15,
   "id": "de66429a-c17a-4ee2-9d00-6e5ba77c4dcb",
   "metadata": {},
   "outputs": [
    {
     "data": {
      "text/plain": [
       "79.6"
      ]
     },
     "execution_count": 15,
     "metadata": {},
     "output_type": "execute_result"
    }
   ],
   "source": [
    "percentage=total_marks/len(marks_subject[\"subject\"])\n",
    "percentage"
   ]
  },
  {
   "cell_type": "code",
   "execution_count": 16,
   "id": "9dd96b4a-9622-40ab-945f-bd5343f0bcdd",
   "metadata": {},
   "outputs": [
    {
     "name": "stdout",
     "output_type": "stream",
     "text": [
      "grade: B\n"
     ]
    }
   ],
   "source": [
    "if percentage>85:\n",
    "    print(\"grade:\",\"A\")\n",
    "elif percentage<85>=75:\n",
    "    print(\"grade:\",\"B\")\n",
    "elif percentage<75>=50:\n",
    "    print(\"grade:\",\"C\")\n",
    "elif percentage<50>=30:\n",
    "    print(\"grade:\",\"D\")\n",
    "else:\n",
    "    print(\"reappear\")"
   ]
  },
  {
   "cell_type": "code",
   "execution_count": 17,
   "id": "a6ac07e9-491a-4ad1-b37a-55e92d75e853",
   "metadata": {},
   "outputs": [
    {
     "name": "stdin",
     "output_type": "stream",
     "text": [
      "enter the wavelength :   76\n"
     ]
    },
    {
     "name": "stdout",
     "output_type": "stream",
     "text": [
      "THE COLOR DONOT FALL IN VIBGYOR SPECTRUM\n"
     ]
    }
   ],
   "source": [
    "# Write a program for VIBGYOR spectrum based on their wavelength using wavelength range:\n",
    "#  COLOR       WAVELENGTH\n",
    "#  VIOLET      400.0-440.0\n",
    "#  INDIGO      440.0-460.0\n",
    "#  BLUE        460.0-500.0\n",
    "#  GREEN       500.0-570.0\n",
    "#  YELLOW      570.0-590.0\n",
    "#  ORANGE      590.0-620.0\n",
    "#  RED         620.0-720.0\n",
    "wavelength=int(input(\"enter the wavelength :  \"))\n",
    "if 400 <= wavelength < 440:\n",
    "    print(\"VIOLET\")\n",
    "elif 440 <= wavelength < 460:\n",
    "    print(\"INDIGO\")\n",
    "elif 460 <= wavelength < 500:\n",
    "    print(\"BLUE\")\n",
    "elif 500 <= wavelength < 570:\n",
    "    print(\"GREEN\")\n",
    "elif 570 <= wavelength < 590:\n",
    "    print(\"YELLOW\")\n",
    "elif 590 <= wavelength < 620:\n",
    "    print(\"ORANGE\")\n",
    "elif 620 <= wavelength < 720:\n",
    "    print(\"RED\")\n",
    "else:\n",
    "    print(\"THE COLOR DONOT FALL IN VIBGYOR SPECTRUM\")"
   ]
  },
  {
   "cell_type": "code",
   "execution_count": null,
   "id": "b4655d57-0240-48f6-bcb4-80357ea5d7b7",
   "metadata": {},
   "outputs": [],
   "source": []
  },
  {
   "cell_type": "code",
   "execution_count": 18,
   "id": "7b5e3647-ed95-4b6d-97a6-31ead723f07e",
   "metadata": {},
   "outputs": [],
   "source": [
    "#1.14.Consider the gravitational interactions between the Earth, Moon, and Sun in our solar system.\n",
    "#Given:\n",
    "#mass_earth = 5.972e24 # Mass of Earth in kilograms\n",
    "#mass_moon = 7.347 7309e22 # Mass of Moon in kilograms\n",
    "#mass_sun = 1.989e30 # Mass of Sun in kilograms\n",
    "#distance_earth_sun = 1.49 e11 # Average distance between Earth and Sun in meters\n",
    "#distance_moon_earth = 3.844e8 # Average distance between Moon and Earth in meters\n",
    "##Tasks\n",
    "#* Calculate the gravitational force between the Earth and the Sun\n",
    "#* Calculate the gravitational force between the Moon and the Earth\n",
    "#* Compare the calculated forces to determine which gravitational force is stronger\n",
    "#* Explain which celestial body (Earth or Moon) is more attracted to the other based on the comparison.\n",
    "mass_earth=5.972e24\n",
    "mass_moon = 7.34767309e22\n",
    "mass_sun = 1.989e30\n",
    "distance_earth_sun = 1.496e11\n",
    "distance_moon_earth = 3.844e8\n"
   ]
  },
  {
   "cell_type": "code",
   "execution_count": 21,
   "id": "afdf3304-0a21-4a65-af04-0ca68dadc591",
   "metadata": {},
   "outputs": [
    {
     "name": "stdout",
     "output_type": "stream",
     "text": [
      "3.5401138490520174e+22\n"
     ]
    }
   ],
   "source": [
    "# we introduce universal gravitational constant\n",
    "G=6.67e-11\n",
    "force_earth_sun=(G*mass_earth*mass_sun)/(distance_earth_sun**2)\n",
    "print(force_earth_sun)"
   ]
  },
  {
   "cell_type": "code",
   "execution_count": 23,
   "id": "a5b0b121-bab2-44f2-9606-a6746235c7ab",
   "metadata": {},
   "outputs": [
    {
     "ename": "NameError",
     "evalue": "name 'force_moon_earth' is not defined",
     "output_type": "error",
     "traceback": [
      "\u001b[0;31m---------------------------------------------------------------------------\u001b[0m",
      "\u001b[0;31mNameError\u001b[0m                                 Traceback (most recent call last)",
      "Cell \u001b[0;32mIn[23], line 1\u001b[0m\n\u001b[0;32m----> 1\u001b[0m \u001b[38;5;28mprint\u001b[39m(\u001b[43mforce_moon_earth\u001b[49m)\n",
      "\u001b[0;31mNameError\u001b[0m: name 'force_moon_earth' is not defined"
     ]
    }
   ],
   "source": [
    "print(force_moon_earth)"
   ]
  },
  {
   "cell_type": "code",
   "execution_count": 24,
   "id": "85d617b9-937a-403b-8a57-6f9421ccc18a",
   "metadata": {},
   "outputs": [
    {
     "ename": "NameError",
     "evalue": "name 'force_moon_earth' is not defined",
     "output_type": "error",
     "traceback": [
      "\u001b[0;31m---------------------------------------------------------------------------\u001b[0m",
      "\u001b[0;31mNameError\u001b[0m                                 Traceback (most recent call last)",
      "Cell \u001b[0;32mIn[24], line 1\u001b[0m\n\u001b[0;32m----> 1\u001b[0m \u001b[38;5;28mprint\u001b[39m(\u001b[43mforce_moon_earth\u001b[49m)\n\u001b[1;32m      2\u001b[0m force_earth_sun\u001b[38;5;241m>\u001b[39mforce_moon_earth\n",
      "\u001b[0;31mNameError\u001b[0m: name 'force_moon_earth' is not defined"
     ]
    }
   ],
   "source": [
    "print(force_moon_earth)\n",
    "force_earth_sun>force_moon_earth"
   ]
  },
  {
   "cell_type": "code",
   "execution_count": 25,
   "id": "cbe87673-83cc-4805-b9cf-49ea30e21608",
   "metadata": {},
   "outputs": [],
   "source": [
    "# Hence the gravitational force between earth and sun is greater than the gravitational force between moon and earth"
   ]
  },
  {
   "cell_type": "code",
   "execution_count": 26,
   "id": "1bc127cb-36ba-453d-a16b-d26fb68243f3",
   "metadata": {},
   "outputs": [],
   "source": [
    "#4. Design and implement a Python program for managing student information using object-oriented\n",
    "#principles. Create a class called `Student` with encapsulated attributes for name, age, and roll number.\n",
    "#Implement getter and setter methods for these attributes. Additionally, provide methods to display student\n",
    "#information and update student details.\n",
    "#Task\n",
    "#* Define the `Student` class with encapsulated attributes\n",
    "#* Implement getter and setter methods for the attributes\n",
    "#* Write methods to display student information and update details\n",
    "#* Create instances of the `Student` class and test the implemented functionality."
   ]
  },
  {
   "cell_type": "code",
   "execution_count": 29,
   "id": "df1c723e-c911-4ac7-964e-b1f30257164e",
   "metadata": {},
   "outputs": [],
   "source": [
    "class Student:\n",
    "    def __init__(self,name,age,roll_number):\n",
    "        self.__name=name\n",
    "        self.__age=age\n",
    "        self.__roll_number=roll_number\n",
    "    def access_name(self):      # Impliment getter method\n",
    "        return self.__name\n",
    "    def access_age(self):\n",
    "        return self.__age\n",
    "    def access_roll_no(self):\n",
    "        return self.roll_number   # We provide access to these attributes\n",
    "    def set_name(self,name):      # Impliment setter method\n",
    "        self.__name=name\n",
    "    def set_age(self,age):\n",
    "        self.__age=age\n",
    "    def set_roll_no(self,roll_no):\n",
    "        self.roll_no=roll_no\n",
    "    def display_student_info(self):   # method to display student detail and after updating also display method\n",
    "        print(f\"Name: {self.__name}\")\n",
    "        print(f\"Age: {self.__age}\")\n",
    "        print(f\"Roll Number: {self.__roll_number}\")        "
   ]
  },
  {
   "cell_type": "code",
   "execution_count": 30,
   "id": "f20c44eb-05ba-4396-8d9d-603c7c961e17",
   "metadata": {},
   "outputs": [],
   "source": [
    "student1=Student(\"Ankit\",28,12)"
   ]
  },
  {
   "cell_type": "code",
   "execution_count": 31,
   "id": "f7399f38-1a9f-43bd-8c8a-1f086b74a819",
   "metadata": {},
   "outputs": [
    {
     "name": "stdout",
     "output_type": "stream",
     "text": [
      "student1 information:\n",
      "Name: Ankit\n",
      "Age: 28\n",
      "Roll Number: 12\n"
     ]
    }
   ],
   "source": [
    "print(\"student1 information:\")\n",
    "student1.display_student_info()\n"
   ]
  },
  {
   "cell_type": "code",
   "execution_count": 32,
   "id": "288b5015-223b-4690-8b99-bf4ed3fa8944",
   "metadata": {},
   "outputs": [],
   "source": [
    "student1.set_name(\"Abhishek\")"
   ]
  },
  {
   "cell_type": "code",
   "execution_count": 33,
   "id": "b6ece2a2-6d44-4004-8837-115d6ff98f64",
   "metadata": {},
   "outputs": [
    {
     "name": "stdout",
     "output_type": "stream",
     "text": [
      "student1 updated information:\n",
      "Name: Abhishek\n",
      "Age: 28\n",
      "Roll Number: 12\n"
     ]
    }
   ],
   "source": [
    "print(\"student1 updated information:\")\n",
    "student1.display_student_info()   # updated info"
   ]
  },
  {
   "cell_type": "code",
   "execution_count": 35,
   "id": "8349e17d-5515-4ad7-b444-0ab77b1c641f",
   "metadata": {},
   "outputs": [
    {
     "ename": "SyntaxError",
     "evalue": "invalid syntax (3558537164.py, line 9)",
     "output_type": "error",
     "traceback": [
      "\u001b[0;36m  Cell \u001b[0;32mIn[35], line 9\u001b[0;36m\u001b[0m\n\u001b[0;31m    Class LibraryBook:\u001b[0m\n\u001b[0m          ^\u001b[0m\n\u001b[0;31mSyntaxError\u001b[0m\u001b[0;31m:\u001b[0m invalid syntax\n"
     ]
    }
   ],
   "source": [
    "# 3 .  Develop a python program for managing library resources efficiently. Design a class name 'LibraryBook'\n",
    "# with attributes like book name, author and availaibility status. Impliment method for borrowing and\n",
    "# returning book like ensuring proper encapsulation of attributes.\n",
    "# task\n",
    "# *  Create a 'LibraryBook' class with encapsulated attributes.\n",
    "# *  Impliment method for borrowing and returning book.\n",
    "# *  Ensure proper encapsulation to protect book details.\n",
    "# *  Test the borrowing and returning functionality with simple data.\n"
   ]
  },
  {
   "cell_type": "code",
   "execution_count": 36,
   "id": "16d98031-3b6a-4224-832c-28912d71c31d",
   "metadata": {},
   "outputs": [
    {
     "ename": "NameError",
     "evalue": "name 'book1' is not defined",
     "output_type": "error",
     "traceback": [
      "\u001b[0;31m---------------------------------------------------------------------------\u001b[0m",
      "\u001b[0;31mNameError\u001b[0m                                 Traceback (most recent call last)",
      "Cell \u001b[0;32mIn[36], line 1\u001b[0m\n\u001b[0;32m----> 1\u001b[0m \u001b[38;5;28mprint\u001b[39m(\u001b[38;5;124mf\u001b[39m\u001b[38;5;124m\"\u001b[39m\u001b[38;5;124mBook: \u001b[39m\u001b[38;5;132;01m{\u001b[39;00m\u001b[43mbook1\u001b[49m\u001b[38;5;241m.\u001b[39mget_book_name()\u001b[38;5;132;01m}\u001b[39;00m\u001b[38;5;124m, Author: \u001b[39m\u001b[38;5;132;01m{\u001b[39;00mbook1\u001b[38;5;241m.\u001b[39mget_author_name()\u001b[38;5;132;01m}\u001b[39;00m\u001b[38;5;124m, Available: \u001b[39m\u001b[38;5;132;01m{\u001b[39;00mbook1\u001b[38;5;241m.\u001b[39mis_availaible()\u001b[38;5;132;01m}\u001b[39;00m\u001b[38;5;124m\"\u001b[39m)\n\u001b[1;32m      2\u001b[0m \u001b[38;5;28mprint\u001b[39m(\u001b[38;5;124mf\u001b[39m\u001b[38;5;124m\"\u001b[39m\u001b[38;5;124mBook: \u001b[39m\u001b[38;5;132;01m{\u001b[39;00mbook2\u001b[38;5;241m.\u001b[39mget_book_name()\u001b[38;5;132;01m}\u001b[39;00m\u001b[38;5;124m, Author: \u001b[39m\u001b[38;5;132;01m{\u001b[39;00mbook2\u001b[38;5;241m.\u001b[39mget_author_name()\u001b[38;5;132;01m}\u001b[39;00m\u001b[38;5;124m, Available: \u001b[39m\u001b[38;5;132;01m{\u001b[39;00mbook2\u001b[38;5;241m.\u001b[39mis_availaible()\u001b[38;5;132;01m}\u001b[39;00m\u001b[38;5;124m\"\u001b[39m)\n",
      "\u001b[0;31mNameError\u001b[0m: name 'book1' is not defined"
     ]
    }
   ],
   "source": [
    "print(f\"Book: {book1.get_book_name()}, Author: {book1.get_author_name()}, Available: {book1.is_availaible()}\")\n",
    "print(f\"Book: {book2.get_book_name()}, Author: {book2.get_author_name()}, Available: {book2.is_availaible()}\")"
   ]
  },
  {
   "cell_type": "code",
   "execution_count": 37,
   "id": "288924d9-6461-400c-8dfd-7cc72beef412",
   "metadata": {},
   "outputs": [
    {
     "ename": "SyntaxError",
     "evalue": "invalid syntax (646403868.py, line 1)",
     "output_type": "error",
     "traceback": [
      "\u001b[0;36m  Cell \u001b[0;32mIn[37], line 1\u001b[0;36m\u001b[0m\n\u001b[0;31m    Class LibraryBook:\u001b[0m\n\u001b[0m          ^\u001b[0m\n\u001b[0;31mSyntaxError\u001b[0m\u001b[0;31m:\u001b[0m invalid syntax\n"
     ]
    }
   ],
   "source": []
  },
  {
   "cell_type": "code",
   "execution_count": 38,
   "id": "4140c832-ee20-4840-94ee-b2b2fc04f529",
   "metadata": {},
   "outputs": [],
   "source": [
    "#4.Create a simple banking system using object-oriented concepts in Python. Design classes representing\n",
    "# different types of bank accounts such as savings and checking. Implement methods for deposit, withdraw,\n",
    "#and balance inquiry. Utilize inheritance to manage different account types efficiently.\n",
    "# tasks\n",
    "# 1. Define base class(es) for bana accounts with common attributes and methods\n",
    "# 2. Implement subclasses for specific account types (e.g., SavingsAccount, CheckingAccount)\n",
    "# 3. Provide methods for deposit, withdraw, and balance inquiry in each subclass\n",
    "# 4. Test the banking system by creating instances of different account types and performing transactions. \"\"\"\n",
    "class BankAccount:\n",
    "    def __init__(self,account_no,balance=0):  # open a new account\n",
    "        self.account_no=account_no\n",
    "        self.balance=balance\n",
    "    \n",
    "    def deposits(self,amount):\n",
    "        if amount>0:\n",
    "            self.balance += amount\n",
    "            print(f\"Deposited : {amount} ,Updated_balance : {self.balance}\")\n",
    "        else:\n",
    "            print(\"amount must be positive\")\n",
    "            \n",
    "    def withdraw(self,amount):\n",
    "        if amount>0:\n",
    "            if self.balance > amount:\n",
    "                self.balance -= amount\n",
    "                print(f\"withdrawl_amount : {amount} , updated_balance : {self.balance}\")\n",
    "            else:\n",
    "                print(\"Insufficient balabce\")\n",
    "        else:\n",
    "            print(\"amount must be positive\")\n",
    "        \n",
    "        \n",
    "    def get_balance(self):\n",
    "        print(f\"Account balance: {self.balance}\")\n",
    "        return self.balance\n",
    "    \n",
    "class SavingsAccount(BankAccount):\n",
    "    def __init__(self,account_no,balance=0,interest_rate=0.07):\n",
    "        self.account_no=account_no\n",
    "        self.balance=balance\n",
    "        self.interest_rate=interest_rate\n",
    "        \n",
    "    def add_interest(self):\n",
    "        interest = self.balance * self.interest_rate\n",
    "        print(f\"interest added : {interest} , updated_balance : {self.balance}\")\n",
    "        \n",
    "class CheckingAccount(BankAccount):\n",
    "    def __init__(self,account_no,balance=0,overdraft=0):\n",
    "        self.account_no=account_no\n",
    "        self.balance=balance\n",
    "        self.overdraft=overdraft\n",
    "        \n",
    "    def withdraw(self, amount):\n",
    "        if amount > 0:\n",
    "            if self.balance + self.overdraft_limit >= amount:\n",
    "                self.balance -= amount\n",
    "                print(f\"Withdrew {amount}. New balance: {self.balance}\")\n",
    "            else:\n",
    "                print(\"Insufficient funds, including overdraft limit.\")\n",
    "        else:\n",
    "            print(\"Withdrawal amount must be positive\")        "
   ]
  },
  {
   "cell_type": "code",
   "execution_count": 39,
   "id": "5e16e613-0cb2-4a4e-9112-f19a48bc6616",
   "metadata": {},
   "outputs": [],
   "source": [
    "# 5.Write a Python program that models different animals and their sounds. Design a base class called\n",
    "#`Animal` with a method `make_sound()`. Create subclasses like `Dog` and `Cat` that override the\n",
    "#`make_sound()` method to produce appropriate sounds.\n",
    "#Tasks\n",
    "# 1. Define the `Animal` class with a method `make_sound()`\n",
    "# 2. Create subclasses `Dog` and `Cat` that override the `make_sound()` method\n",
    "# 3. Implement the sound generation logic for each subclass\n",
    "# 4. Test the program by creating instances of `Dog` and `Cat` and calling the `make_sound()` method.\n",
    "class Animal:\n",
    "    def make_sound(self):\n",
    "        return \"animal_sound\"\n",
    "class Dog(Animal):\n",
    "    def make_sound(self):\n",
    "        return \"Bark\"\n",
    "class Cat(Animal):\n",
    "    def make_sound(self):\n",
    "        return \"meow\""
   ]
  },
  {
   "cell_type": "code",
   "execution_count": 40,
   "id": "44022fcd-571a-4d50-a0de-aca6d8141e38",
   "metadata": {},
   "outputs": [],
   "source": [
    "c=Cat()"
   ]
  },
  {
   "cell_type": "code",
   "execution_count": 41,
   "id": "44b9b2d4-5721-4f6c-acfe-822f4ad2a6e4",
   "metadata": {},
   "outputs": [
    {
     "ename": "IndentationError",
     "evalue": "unexpected indent (3146164401.py, line 4)",
     "output_type": "error",
     "traceback": [
      "\u001b[0;36m  Cell \u001b[0;32mIn[41], line 4\u001b[0;36m\u001b[0m\n\u001b[0;31m    d=Dog()\u001b[0m\n\u001b[0m    ^\u001b[0m\n\u001b[0;31mIndentationError\u001b[0m\u001b[0;31m:\u001b[0m unexpected indent\n"
     ]
    }
   ],
   "source": [
    "c.make_sound()    # Here make_sound attribute belongs to the parent class Animal but once we define\n",
    "                  # child class Cat and Dog that overides that attributes\n",
    "    \n",
    "    d=Dog()\n",
    "    d.make_sound()\n",
    "    \n",
    "    \n",
    "    \n",
    "    "
   ]
  },
  {
   "cell_type": "code",
   "execution_count": 42,
   "id": "c841402b-508b-4fab-a0d8-9c68a1a2ae3c",
   "metadata": {},
   "outputs": [],
   "source": [
    "#6.Write a code for Restaurant Management System Using OOPS\n",
    "# Create a menu item class that has attributes such as name,discription,price and category\n",
    "# Impliment method to add new menu item , update menu item information, and remove menu item from the menu.\n",
    "# Use encapsulation to hide the menu item unique identification number.\n",
    "# Inherit the menuitem class to create a fooditem class and a beverageitem class ,each with their own specific attributes and methods.\n",
    "class MenuItem:\n",
    "    def __init__(self,name,discription,price,category,iden_no):\n",
    "        self.name=name\n",
    "        self.discription=discription\n",
    "        self.price=price\n",
    "        self.category=category\n",
    "        self.__iden_no=iden_no\n",
    "        \n",
    "    \n",
    "    def update_name(self,name):\n",
    "        self.name=name\n",
    "    def update_discription(self,discription):\n",
    "        self.discription=discription\n",
    "    def update_price(self,price):\n",
    "        self.price=price\n",
    "    def update_category(self,category):\n",
    "        self.category=category\n",
    "    def update_iden_no(self):\n",
    "        self.__iden_no=iden_no\n",
    "    \n",
    "    \n",
    "    def menu_info(self):\n",
    "        print(f\"food_name : {self.name} ,discription : {self.discription}, price : {self.price}, category : {self.category}\")\n",
    "        \n",
    "        \n",
    "class BeverageItem(MenuItem):\n",
    "    def __init__(self,name,discription,price,category,iden_no,nature):\n",
    "        self.name=name\n",
    "        self.discription=discription\n",
    "        self.price=price\n",
    "        self.category=category\n",
    "        self.__iden_no=iden_no\n",
    "        self.nature=nature\n",
    "            \n",
    "    def beverage_info(self):\n",
    "        print(f\"beverage_name : {self.name} ,discription : {self.discription}, price : {self.price}, category : {self.category}, nature : {self.nature}\")\n",
    "        \n",
    "class FoodItem(MenuItem):\n",
    "    def __init__(self,name,discription,price,category,iden_no,food_type):\n",
    "        self.name=name\n",
    "        self.discription=discription\n",
    "        self.price=price\n",
    "        self.category=category\n",
    "        self.__iden_no=iden_no\n",
    "        self.food_type=food_type\n",
    "        \n",
    "    def food_info(self):\n",
    "        print(f\"food_name : {self.name} , discription : {self.discription}, price : {self.price}, category : {self.category}, self.food_item : {self.food_item}\")        "
   ]
  },
  {
   "cell_type": "code",
   "execution_count": 43,
   "id": "d169c38d-146c-4399-b0a3-240132b49c37",
   "metadata": {},
   "outputs": [],
   "source": [
    "menu=MenuItem(\"biryani\",\"non veg rice based\",180,\"indian\",\"A18\")"
   ]
  },
  {
   "cell_type": "code",
   "execution_count": 44,
   "id": "bc41b7cc-7294-4dac-85cf-c82eb55eef10",
   "metadata": {},
   "outputs": [
    {
     "name": "stdout",
     "output_type": "stream",
     "text": [
      "food_name : biryani ,discription : non veg rice based, price : 180, category : indian\n"
     ]
    }
   ],
   "source": [
    "menu.menu_info()\n"
   ]
  },
  {
   "cell_type": "code",
   "execution_count": 45,
   "id": "35d1d100-81bb-4889-969c-9efa642ee839",
   "metadata": {},
   "outputs": [],
   "source": [
    "menu.update_category(\"south indian\")"
   ]
  },
  {
   "cell_type": "code",
   "execution_count": 46,
   "id": "e0a0ad68-3fc9-4332-9e1d-a1493ba90f04",
   "metadata": {},
   "outputs": [
    {
     "name": "stdout",
     "output_type": "stream",
     "text": [
      "food_name : biryani ,discription : non veg rice based, price : 180, category : south indian\n"
     ]
    }
   ],
   "source": [
    "menu.menu_info()"
   ]
  },
  {
   "cell_type": "code",
   "execution_count": 48,
   "id": "fb19ef63-3ac9-4181-8112-db2722bef3e2",
   "metadata": {},
   "outputs": [],
   "source": [
    "bev= BeverageItem(\"mojito\",\"lemon based\",400,\"italian\",\"A23\",\"non alcoholic\")"
   ]
  },
  {
   "cell_type": "code",
   "execution_count": 49,
   "id": "1993ab4f-00ce-43e5-ab2f-26c3fd68d76a",
   "metadata": {},
   "outputs": [
    {
     "name": "stdout",
     "output_type": "stream",
     "text": [
      "beverage_name : mojito ,discription : lemon based, price : 400, category : italian, nature : non alcoholic\n"
     ]
    }
   ],
   "source": [
    "bev.beverage_info()"
   ]
  },
  {
   "cell_type": "code",
   "execution_count": 50,
   "id": "7b99bd8f-4111-47f2-9e16-442b508afdf5",
   "metadata": {},
   "outputs": [],
   "source": [
    "#7.Write a code for Hotel Management System using OOPS \n",
    "# Create a Room class that has attributes such as room number, room type, rate, and availability (private)\n",
    "# Impliment methods to book a room, check in a guest, and check out a guest\n",
    "# Use encpsulation to hide the room's unique identification number\n",
    "# Inherit from the Room class to create a Suit,Room class and a StandardRoom class, each with their own\n",
    "# specific attributes and methods.\n",
    "class Room:\n",
    "    def __init__(self,room_number,room_type,rate):\n",
    "        self.__room_number=room_number\n",
    "        self.room_type=room_type\n",
    "        self.rate=rate\n",
    "        self.__is_available=True\n",
    "    \n",
    "    def room_book(self):\n",
    "        if self.__is_available:\n",
    "            self.__is_available = False\n",
    "            print(f\"room {self.__room_number} is booked\")\n",
    "        else:\n",
    "            print(f\"room {self.__room_number} is already booked\")\n",
    "            \n",
    "    def check_in(self):\n",
    "        if not self.__is_available:\n",
    "            print(f\"Guest has checked into room {self.__room_number}.\")\n",
    "        else:\n",
    "            print(f\"Room {self.__room_number} is not booked yet.\")\n",
    "    \n",
    "    \n",
    "    def check_out(self):\n",
    "        if not self.__is_available:\n",
    "            self.__is_available = True\n",
    "            print(f\"Guest has checked out of room {self.__room_number}.\")\n",
    "        else:\n",
    "            print(f\"Room {self.__room_number} is already available.\")\n",
    "            \n",
    "    def is_available(self):\n",
    "        return self.__is_available\n",
    "\n",
    "    def get_room_number(self):\n",
    "        return self.__room_number\n",
    "\n",
    "    def get_room_details(self):\n",
    "        return {\n",
    "            'Room Number': self.__room_number,\n",
    "            'Room Type': self.room_type,\n",
    "            'Rate': self.rate,\n",
    "            'Availability': 'Available' if self.__is_available else 'Booked'\n",
    "        }\n",
    "\n",
    "class SuiteRoom(Room):\n",
    "    def __init__(self, room_number, rate, has_living_room=True):\n",
    "        super().__init__(room_number, \"Suite\", rate)\n",
    "        self.has_living_room = has_living_room\n",
    "\n",
    "    def get_room_details(self):\n",
    "        details = super().get_room_details()\n",
    "        details['Has Living Room'] = self.has_living_room\n",
    "        return details\n",
    "\n",
    "\n",
    "class StandardRoom(Room):\n",
    "    def __init__(self, room_number, rate, has_double_bed=True):\n",
    "        super().__init__(room_number, \"Standard\", rate)\n",
    "        self.has_double_bed = has_double_bed\n",
    "    \n",
    "    \n",
    "    def get_room_details(self):\n",
    "        details = super().get_room_details()\n",
    "        details['Has Double Bed'] = self.has_double_bed\n",
    "        return details"
   ]
  },
  {
   "cell_type": "code",
   "execution_count": 51,
   "id": "5bf90795-5860-44a0-9469-7f869bdda76c",
   "metadata": {},
   "outputs": [],
   "source": [
    "suite1 = SuiteRoom(room_number=101, rate=200)\n",
    "standard1 = StandardRoom(room_number=102, rate=100)"
   ]
  },
  {
   "cell_type": "code",
   "execution_count": 52,
   "id": "e6380ee2-3c85-4f66-b949-fe4f319509a4",
   "metadata": {},
   "outputs": [
    {
     "name": "stdout",
     "output_type": "stream",
     "text": [
      "room 101 is booked\n"
     ]
    }
   ],
   "source": [
    "suite1.room_book()\n"
   ]
  },
  {
   "cell_type": "code",
   "execution_count": 53,
   "id": "2ad4f9ac-36cf-41b0-8a95-0f6a9aa1df24",
   "metadata": {},
   "outputs": [
    {
     "name": "stdout",
     "output_type": "stream",
     "text": [
      "Guest has checked into room 101.\n"
     ]
    }
   ],
   "source": [
    "suite1.check_in()"
   ]
  },
  {
   "cell_type": "code",
   "execution_count": 54,
   "id": "73636682-7f9b-43d7-ae32-860b48e99c12",
   "metadata": {},
   "outputs": [
    {
     "data": {
      "text/plain": [
       "{'Room Number': 101,\n",
       " 'Room Type': 'Suite',\n",
       " 'Rate': 200,\n",
       " 'Availability': 'Booked',\n",
       " 'Has Living Room': True}"
      ]
     },
     "execution_count": 54,
     "metadata": {},
     "output_type": "execute_result"
    }
   ],
   "source": [
    "suite1.get_room_details()"
   ]
  },
  {
   "cell_type": "code",
   "execution_count": 55,
   "id": "3f66c56d-05d9-42ea-94bd-7c1f12813d81",
   "metadata": {},
   "outputs": [
    {
     "name": "stdout",
     "output_type": "stream",
     "text": [
      "Guest has checked out of room 101.\n"
     ]
    }
   ],
   "source": [
    "suite1.check_out()"
   ]
  },
  {
   "cell_type": "code",
   "execution_count": 56,
   "id": "c4fa5298-f89b-4ede-9936-53a83d19ff23",
   "metadata": {},
   "outputs": [],
   "source": [
    "#8.Write a code for Fitness Club Management System using OOPS\n",
    "# Create a Member class that has attributes such as name, age, membership type, and membership status\n",
    "# (private)\n",
    "# Impliment methods to register a new member, renew a membership, and cancel a membership\n",
    "# Use encapsulation to hide the member's unique identcation number\n",
    "# Inherit from the Member class to create a FamilyMember class and an IndividualMember class, each with\n",
    "# their own specific attributes and methods\n",
    "class Member:\n",
    "    def __init__(self,name,age,membership_type,membership_status,Iden_no):\n",
    "        self.name=name\n",
    "        self.age=age\n",
    "        self.membership_type=membership_type\n",
    "        self.__membership_status= \"active\"\n",
    "        self.__Iden_no=Iden_no\n",
    "        \n",
    "    def member_info(self):\n",
    "        print(f\"member_name : {self.name} , age : {self.age} , membership_type : {self.membership_type}\")\n",
    "        \n",
    "              \n",
    "    def register_no(self):\n",
    "              print(f\" member {self.name} has been registered \")\n",
    "              \n",
    "    def renew_membership(self):\n",
    "        if self.__membership_status == \"active\" :\n",
    "            print(f\"membership for {self.name} has been renewed\")\n",
    "        else:\n",
    "                  print(f\" membership for {self.name} cant be renewed ,currently Inactive\")\n",
    "                \n",
    "    def cancel_membership(self):\n",
    "        self.__membership_status = \"inactive\"\n",
    "        print(f\" membership for {self.name} has been cancelled\")\n",
    "        \n",
    "        \n",
    "    def get_membership_status(self):\n",
    "        return self.__membership_status\n",
    "    \n",
    "    \n",
    "class FamilyMember(Member):\n",
    "    def  __init__(self,name,age,membership_type,family_size):\n",
    "        self.name=name\n",
    "        self.age=age\n",
    "        self.membership_type=membership_type\n",
    "        self.family_size=family_size\n",
    "        \n",
    "    def member_info(self):\n",
    "        print(f\"member_name : {self.name} , age : {self.age} , membership_type : {self.membership_type}, family_size : {self.family_size}\")\n",
    "\n",
    "        \n",
    "class IndividualMember(Member):\n",
    "    def __init__(self,name,age,size=1):\n",
    "        self.name=name\n",
    "        self.age=age\n",
    "        self.size=size\n",
    "        \n",
    "        \n",
    "    def member_info(self):\n",
    "        print(f\" member_name : {self.name} , age : {self.age} , size : 1 \")             "
   ]
  },
  {
   "cell_type": "code",
   "execution_count": 57,
   "id": "6d6122c7-dbfa-4651-96f9-ed46e05e2bb8",
   "metadata": {},
   "outputs": [],
   "source": [
    "m = Member( \"Ankit\",28,\"yearly\",\"active\",\"a111\")"
   ]
  },
  {
   "cell_type": "code",
   "execution_count": 58,
   "id": "90a25cb3-f0ff-41f1-887e-bfac468ce3c8",
   "metadata": {},
   "outputs": [
    {
     "name": "stdout",
     "output_type": "stream",
     "text": [
      "member_name : Ankit , age : 28 , membership_type : yearly\n"
     ]
    }
   ],
   "source": [
    "m.member_info()"
   ]
  },
  {
   "cell_type": "code",
   "execution_count": 59,
   "id": "4596da7b-b5aa-47af-8b3e-7b4332da3cf6",
   "metadata": {},
   "outputs": [
    {
     "name": "stdout",
     "output_type": "stream",
     "text": [
      " membership for Ankit has been cancelled\n"
     ]
    }
   ],
   "source": [
    "m.cancel_membership()"
   ]
  },
  {
   "cell_type": "code",
   "execution_count": 60,
   "id": "e93dd06a-8907-44af-a526-37d615ec1e48",
   "metadata": {},
   "outputs": [
    {
     "name": "stdout",
     "output_type": "stream",
     "text": [
      " member Ankit has been registered \n"
     ]
    }
   ],
   "source": [
    "m.register_no()"
   ]
  },
  {
   "cell_type": "code",
   "execution_count": 61,
   "id": "61af40be-65ed-4c05-ba90-09626f10784c",
   "metadata": {},
   "outputs": [
    {
     "name": "stdout",
     "output_type": "stream",
     "text": [
      " member_name : Anupam , age : 29 , size : 1 \n"
     ]
    }
   ],
   "source": [
    "i = IndividualMember(\"Anupam\",29)\n",
    "i.member_info()"
   ]
  },
  {
   "cell_type": "code",
   "execution_count": 62,
   "id": "397d8292-79ab-4063-b3c8-737cae4c50e9",
   "metadata": {},
   "outputs": [
    {
     "name": "stdout",
     "output_type": "stream",
     "text": [
      " membership for Anupam has been cancelled\n"
     ]
    }
   ],
   "source": [
    "i.cancel_membership()"
   ]
  },
  {
   "cell_type": "code",
   "execution_count": 63,
   "id": "b0427ea0-65e4-4dc4-9309-ef61cdba3fd1",
   "metadata": {},
   "outputs": [],
   "source": [
    "f= FamilyMember(\"Guptas\",\"22-33\",\"yearly\",5)"
   ]
  },
  {
   "cell_type": "code",
   "execution_count": 64,
   "id": "2f48a804-37c4-40f0-98bd-be6222c1a9b4",
   "metadata": {},
   "outputs": [
    {
     "name": "stdout",
     "output_type": "stream",
     "text": [
      "member_name : Guptas , age : 22-33 , membership_type : yearly, family_size : 5\n"
     ]
    }
   ],
   "source": [
    "f.member_info()\n"
   ]
  },
  {
   "cell_type": "code",
   "execution_count": 65,
   "id": "197f9066-679b-4e47-81d9-ec92f2efa136",
   "metadata": {},
   "outputs": [
    {
     "name": "stdout",
     "output_type": "stream",
     "text": [
      " membership for Guptas has been cancelled\n"
     ]
    }
   ],
   "source": [
    "f.cancel_membership()"
   ]
  },
  {
   "cell_type": "code",
   "execution_count": 66,
   "id": "82537a09-fc8a-4183-a552-e71c51ec749c",
   "metadata": {},
   "outputs": [],
   "source": [
    "#  9. Write a code for Event Management System using OOPS\n",
    "# Create an Event class that has attributes such as name, date, time, location, and list of attendees (private)\n",
    "# Impliment methods to create a new event, add or remove attendeees, and get the total number of\n",
    "# attendees\n",
    "# Use ecapsulation to hide the event's unique identification number\n",
    "# Inherit from the Event class to create a PrivateEvent class and a PublicEvent class, each with their own\n",
    "# specific attributes and methods.\n",
    "class Event:\n",
    "    def __init__(self,event_id,name,date,time,location):\n",
    "        self.__event_id=event_id\n",
    "        self.name=name\n",
    "        self.date=date\n",
    "        self.time=time\n",
    "        self.location=location\n",
    "        self.__list_attendees=[]\n",
    "        \n",
    "    def add_attendees(self,attendee):\n",
    "        self.__list_attendees.append(attendee)\n",
    "        print(f\"attendee {attendee} is added to the list\")\n",
    "        \n",
    "    def remove_attendees(self,attendee):\n",
    "        if attendee in self.__attendees:\n",
    "            self.__attendees.remove(attendee)\n",
    "            print(f\"Attendee {attendee} removed from the event {self.name}.\")\n",
    "        else:\n",
    "            print(f\"Attendee {attendee} not found in the event {self.name}.\")\n",
    "            \n",
    "    def get_total_attendees(self):\n",
    "        return len(self.__attendees)\n",
    "    \n",
    "    def event_info(self):\n",
    "        print(f\"event_name : {self.name} , date : {self.date} , time : {self.time} , location : {self.location} , total_attendees : {self.get_total_attendees}\")\n",
    "        \n",
    "    def get_attendees(self):\n",
    "        return self.__attendees\n",
    "    \n",
    "class PrivateEvent(Event):\n",
    "    def __init__(self,event_id,name,date,time,location,invite_only=True):\n",
    "        self.__event_id=event_id\n",
    "        self.name=name\n",
    "        self.date=date\n",
    "        self.time=time\n",
    "        self.location=location\n",
    "        self.invite_only=invite_only\n",
    "        \n",
    "    def event_info(self):\n",
    "        print(f\" event_name : {self.name} , date : {self.date} , time : {self.time} , location : {self.location} , invite_only : {self.invite_only}\")\n",
    "        \n",
    "        \n",
    "class PublicEvent(Event):\n",
    "    def __init__(self,event_id,name,date,time,location,open_to_all=True):\n",
    "        self.__event_id=event_id\n",
    "        self.name=name\n",
    "        self.date=date\n",
    "        self.time=time\n",
    "        self.location=location\n",
    "        self.open_to_all=open_to_all\n",
    "        \n",
    "    def event_info(self):\n",
    "        print(f\" event_name : {self.name} , date : {self.name} , time : {self.time} , location : {self.location} , open_to_all : {self.open_to_all}\") "
   ]
  },
  {
   "cell_type": "code",
   "execution_count": 67,
   "id": "a74f313d-e66a-46fb-816e-4da68ba97b29",
   "metadata": {},
   "outputs": [],
   "source": [
    "p = PrivateEvent(event_id=101, name=\"Board Meeting\", date=\"2023-08-01\", time=\"10:00 AM\", location=\"Conference Room\")\n",
    "pe = PublicEvent(event_id=102, name=\"Community Gathering\", date=\"2023-08-05\", time=\"05:00 PM\", location=\"Community Hall\")"
   ]
  },
  {
   "cell_type": "code",
   "execution_count": 68,
   "id": "10d6c7a2-3562-44a4-8536-ac8b89e03bc3",
   "metadata": {},
   "outputs": [
    {
     "name": "stdout",
     "output_type": "stream",
     "text": [
      " event_name : Board Meeting , date : 2023-08-01 , time : 10:00 AM , location : Conference Room , invite_only : True\n"
     ]
    }
   ],
   "source": [
    "p.event_info()"
   ]
  },
  {
   "cell_type": "code",
   "execution_count": 69,
   "id": "0a17c7a9-d363-4fd0-801b-b1eef7819053",
   "metadata": {},
   "outputs": [
    {
     "name": "stdout",
     "output_type": "stream",
     "text": [
      " event_name : Community Gathering , date : Community Gathering , time : 05:00 PM , location : Community Hall , open_to_all : True\n"
     ]
    }
   ],
   "source": [
    "pe.event_info()"
   ]
  },
  {
   "cell_type": "code",
   "execution_count": 70,
   "id": "5c0732e7-c753-47e4-a09b-bbb2b9abfd00",
   "metadata": {},
   "outputs": [],
   "source": [
    "# 10.Write a code for Airline Reservation System using OOPS\n",
    "# Create a Flight class that has attributes such as flight number, departure and arrival airports, departure and\n",
    "# arrival times, and available seats (private)\n",
    "# Impliment methods to book a seat, cancel a reservation, and get the remaining available seats\n",
    "# Use encapsulation to hide the flight's unique identification number\n",
    "# Inherit from the Flight class to create a DomesticFlight class and an InternationalFlight class, each with their\n",
    "# own specific attributes and methods.\n",
    "class Flight:\n",
    "    def __init__(self,flight_number,departure,arraival,departure_time,arrival_time,availaible_seat):\n",
    "        self.flight_number=flight_number\n",
    "        self.departure=departure\n",
    "        self.arrival=arrival\n",
    "        self.departure_time=departure_time\n",
    "        self.arrival_time=arrival_time\n",
    "        self.__availaible_seat=availaible_seat\n",
    "        self.__booked_seat=0\n",
    "        \n",
    "    def flight_info(self):\n",
    "        print(f\" flight_no : { self.flight_number} , departure_airport : {self.departure} , arrival_airport : { self.arrival} ,  departure_time : { self.departure_time} , arrival_timr :  {self.arrival_time}\")\n",
    "              \n",
    "        \n",
    "    def book_seat(self):\n",
    "        if self.__availaible_seat > 0 :\n",
    "            self.__availaible_seat -= 1\n",
    "            self.__book_seat += 1\n",
    "            print(f\"Seat booked on flight {self.flight_number}. Remaining seats: {self.__availaible_seat}.\")\n",
    "        else:\n",
    "            print(f\"No available seats on flight {self.flight_number}.\")\n",
    "            \n",
    "    def cancel_reservation(self):\n",
    "        if self.__booked_seat > 0:\n",
    "            self.__availaible_seat += 1\n",
    "            self.__booked_seat -= 1\n",
    "            print(f\"Reservation cancelled on flight {self.flight_number}. Remaining seats: {self.__availaible_seats}.\")\n",
    "        else:\n",
    "            print(f\"No reservations to cancel on flight {self.flight_number}.\")\n",
    "            \n",
    "            \n",
    "    def get_remaining_seats(self):\n",
    "        return self.__availaible_seats\n",
    "    \n",
    "class DomesticFlight(Flight):\n",
    "    def __init__(self,flight_number,departure,arrival,departure_time,arrival_time,availaible_seat,state_code):\n",
    "        self.flight_number=flight_number\n",
    "        self.departure=departure\n",
    "        self.arrival=arrival\n",
    "        self.departure_time=departure_time\n",
    "        self.arrival_time=arrival_time\n",
    "        self.__availaible_seat=availaible_seat\n",
    "        self.state_code=state_code\n",
    "        \n",
    "   \n",
    "        \n",
    "    def get_flight_type(self):\n",
    "        return \"domestic\"\n",
    "    \n",
    "class InternationalFlight(Flight):\n",
    "    def __init__(self,flight_number,departure,arrival,departure_time,arrival_time,availaible_seat,country_code):\n",
    "        self.flight_number=flight_number\n",
    "        self.departure=departure\n",
    "        self.arrival=arrival\n",
    "        self.departure_time=departure_time\n",
    "        self.arrival_time=arrival_time\n",
    "        self.__availaible_seat=availaible_seat\n",
    "        self.country_code=country_code\n",
    "        \n",
    "    def get_flight_type(self):\n",
    "        return \"International\"        "
   ]
  },
  {
   "cell_type": "code",
   "execution_count": 71,
   "id": "34145cdf-45ec-4ebe-9a9d-e24421bfc74c",
   "metadata": {},
   "outputs": [],
   "source": [
    "df=DomesticFlight(\"IE2034\",\"DELHI\",\"BANGLORE\",\"9:30\",\"13:00\",88,\"A11\")"
   ]
  },
  {
   "cell_type": "code",
   "execution_count": 72,
   "id": "417c799f-b0fa-4a8c-b779-551cf37e3407",
   "metadata": {},
   "outputs": [
    {
     "data": {
      "text/plain": [
       "'domestic'"
      ]
     },
     "execution_count": 72,
     "metadata": {},
     "output_type": "execute_result"
    }
   ],
   "source": [
    "df.get_flight_type()"
   ]
  },
  {
   "cell_type": "code",
   "execution_count": 73,
   "id": "be3f475a-146c-479f-af87-ad863669e76a",
   "metadata": {},
   "outputs": [
    {
     "name": "stdout",
     "output_type": "stream",
     "text": [
      " flight_no : IE2034 , departure_airport : DELHI , arrival_airport : BANGLORE ,  departure_time : 9:30 , arrival_timr :  13:00\n"
     ]
    }
   ],
   "source": [
    "df.flight_info()"
   ]
  },
  {
   "cell_type": "code",
   "execution_count": null,
   "id": "2b2f979e-2bd4-4b1d-a096-f0fb2492c399",
   "metadata": {},
   "outputs": [],
   "source": []
  }
 ],
 "metadata": {
  "kernelspec": {
   "display_name": "Python 3 (ipykernel)",
   "language": "python",
   "name": "python3"
  },
  "language_info": {
   "codemirror_mode": {
    "name": "ipython",
    "version": 3
   },
   "file_extension": ".py",
   "mimetype": "text/x-python",
   "name": "python",
   "nbconvert_exporter": "python",
   "pygments_lexer": "ipython3",
   "version": "3.10.8"
  }
 },
 "nbformat": 4,
 "nbformat_minor": 5
}
